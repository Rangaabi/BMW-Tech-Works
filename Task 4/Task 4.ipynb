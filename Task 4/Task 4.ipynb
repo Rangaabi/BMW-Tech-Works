{
 "cells": [
  {
   "cell_type": "code",
   "execution_count": 1,
   "metadata": {},
   "outputs": [],
   "source": [
    "from datetime import datetime, time, timedelta\n",
    "\n",
    "def calculate_hours_diff(timestamp1, timestamp2):\n",
    "    \"\"\"Calculate the rounded hour difference between two timestamps (Task 4).\"\"\"\n",
    "    format_str = \"%Y/%m/%d %H:%M\"\n",
    "    dt1 = datetime.strptime(timestamp1, format_str)\n",
    "    dt2 = datetime.strptime(timestamp2, format_str)\n",
    "    delta = abs(dt2 - dt1)\n",
    "    hours = delta.total_seconds() / 3600\n",
    "    return round(hours)"
   ]
  },
  {
   "cell_type": "code",
   "execution_count": null,
   "metadata": {},
   "outputs": [
    {
     "name": "stdout",
     "output_type": "stream",
     "text": [
      "Task 4 - Hour difference: 1\n"
     ]
    }
   ],
   "source": [
    "# Task 4 example:\n",
    "# The difference between \"2022/02/15 00:05\" and \"2022/02/15 01:00\" should be rounded to 1 hour.\n",
    "'''Checking if it s committed'''\n",
    "ts1 = \"2022/02/15 00:05\"\n",
    "ts2 = \"2022/02/15 01:00\"\n",
    "print(\"Task 4 - Hour difference:\", calculate_hours_diff(ts1, ts2))  # Expected output: 1\n"
   ]
  },
  {
   "cell_type": "code",
   "execution_count": null,
   "metadata": {},
   "outputs": [],
   "source": []
  }
 ],
 "metadata": {
  "kernelspec": {
   "display_name": "Python 3",
   "language": "python",
   "name": "python3"
  },
  "language_info": {
   "codemirror_mode": {
    "name": "ipython",
    "version": 3
   },
   "file_extension": ".py",
   "mimetype": "text/x-python",
   "name": "python",
   "nbconvert_exporter": "python",
   "pygments_lexer": "ipython3",
   "version": "3.11.6"
  }
 },
 "nbformat": 4,
 "nbformat_minor": 2
}
