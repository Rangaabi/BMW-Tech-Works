{
 "cells": [
  {
   "cell_type": "code",
   "execution_count": 1,
   "metadata": {},
   "outputs": [
    {
     "name": "stdout",
     "output_type": "stream",
     "text": [
      "Task 5 - Working hours difference (same day): 8\n",
      "Task 5 - Working hours difference (spanning weekend): 2\n"
     ]
    }
   ],
   "source": [
    "from datetime import datetime, time, timedelta\n",
    "\n",
    "\n",
    "def working_hours_difference(timestamp1: str, timestamp2: str) -> int:\n",
    "    \"\"\"\n",
    "    Calculates the time difference between two timestamps, but only counts the hours \n",
    "    that fall within the working period of 09:00 to 17:00 on weekdays (Monday-Friday). \n",
    "    The result is the total working hours between the two timestamps, rounded to the nearest hour.\n",
    "\n",
    "    Args:\n",
    "        timestamp1 (str): A timestamp string in the format \"YYYY/MM/DD HH:MM\".\n",
    "        timestamp2 (str): A timestamp string in the format \"YYYY/MM/DD HH:MM\".\n",
    "\n",
    "    Returns:\n",
    "        int: The rounded working hour difference.\n",
    "    \"\"\"\n",
    "    dt_format = \"%Y/%m/%d %H:%M\"\n",
    "    start = datetime.strptime(timestamp1, dt_format)\n",
    "    end = datetime.strptime(timestamp2, dt_format)\n",
    "    \n",
    "    # Ensure start is the earlier datetime\n",
    "    if start > end:\n",
    "        start, end = end, start\n",
    "\n",
    "    working_seconds = 0\n",
    "\n",
    "    # Process each day between start and end (inclusive)\n",
    "    current_day = start.date()\n",
    "    end_day = end.date()\n",
    "\n",
    "    while current_day <= end_day:\n",
    "        # Only count weekdays (Monday=0, Sunday=6)\n",
    "        if current_day.weekday() < 5:\n",
    "            # Define the working period for the day (09:00 to 17:00)\n",
    "            work_start = datetime.combine(current_day, time(9, 0))\n",
    "            work_end = datetime.combine(current_day, time(17, 0))\n",
    "            # For the current day, determine the actual period to count:\n",
    "            # - For the first day, it might start later than 09:00.\n",
    "            # - For the last day, it might end earlier than 17:00.\n",
    "            period_start = max(start, work_start)\n",
    "            period_end = min(end, work_end)\n",
    "            if period_end > period_start:\n",
    "                working_seconds += (period_end - period_start).total_seconds()\n",
    "        current_day += timedelta(days=1)\n",
    "\n",
    "    working_hours = working_seconds / 3600\n",
    "    return round(working_hours)\n",
    "\n",
    "# --- Testing the functions ---\n",
    "\n",
    "\n",
    "# Task 5 examples:\n",
    "# Example 1: On a weekday, if the time range extends before 09:00 and after 17:00,\n",
    "# only the period 09:00-17:00 (8 hours) should count.\n",
    "ts3 = \"2022/02/15 08:00\"  # Tuesday\n",
    "ts4 = \"2022/02/15 18:00\"\n",
    "print(\"Task 5 - Working hours difference (same day):\", working_hours_difference(ts3, ts4))  # Expected: 8\n",
    "\n",
    "# Example 2: When the range spans multiple days including a weekend.\n",
    "# Let's say Friday 16:00 to Monday 10:00.\n",
    "ts5 = \"2022/02/18 16:00\"  # Friday\n",
    "ts6 = \"2022/02/21 10:00\"  # Monday\n",
    "# For Friday: from 16:00 to 17:00 => 1 hour\n",
    "# Saturday and Sunday are skipped (weekends)\n",
    "# For Monday: from 09:00 to 10:00 => 1 hour\n",
    "# Total expected: 2 hours\n",
    "print(\"Task 5 - Working hours difference (spanning weekend):\", working_hours_difference(ts5, ts6))  # Expected: 2\n"
   ]
  }
 ],
 "metadata": {
  "kernelspec": {
   "display_name": "Python 3",
   "language": "python",
   "name": "python3"
  },
  "language_info": {
   "codemirror_mode": {
    "name": "ipython",
    "version": 3
   },
   "file_extension": ".py",
   "mimetype": "text/x-python",
   "name": "python",
   "nbconvert_exporter": "python",
   "pygments_lexer": "ipython3",
   "version": "3.11.6"
  }
 },
 "nbformat": 4,
 "nbformat_minor": 2
}
